{
 "cells": [
  {
   "cell_type": "markdown",
   "id": "3d817afa-16c9-49d5-92a0-eb61b405e384",
   "metadata": {
    "tags": []
   },
   "source": [
    "# Important Concepts of Data Science "
   ]
  },
  {
   "cell_type": "markdown",
   "id": "c3c82f96-128d-4c8a-8d0f-265a1a9e5fb2",
   "metadata": {
    "tags": []
   },
   "source": [
    "#### In this notebook, we will be discussing about Data Science. "
   ]
  },
  {
   "cell_type": "markdown",
   "id": "82f14c75-1075-4b03-8af4-158c3d4edc7d",
   "metadata": {},
   "source": [
    "### Let us discuss the Languages in Data Science:\n",
    "1. Python\n",
    "2. R\n",
    "3. SQL\n",
    "4. Scala\n",
    "5. Java\n",
    "6. C++\n",
    "7. Julia\n",
    "8. JavaScript\n",
    "9. php\n",
    "10. GO\n",
    "11. Ruby"
   ]
  },
  {
   "cell_type": "markdown",
   "id": "94b40368-2e6d-4677-9ce7-082053842f70",
   "metadata": {},
   "source": [
    "#### Now, the libraries in Data Science are:\n",
    "1. Scientific Computing:\n",
    "    * Pandas\n",
    "    * NumPy\n",
    "2. Visualization:\n",
    "    * Matplotlib\n",
    "    * Seaborn\n",
    "3. Machine Learning and Deep Learning:\n",
    "    * Scikit learn\n",
    "    * Keras\n",
    "    * TensorFlow\n",
    "    * PyTorch"
   ]
  },
  {
   "cell_type": "markdown",
   "id": "9d898db0-4216-4a32-98e7-9e413900e34a",
   "metadata": {},
   "source": [
    "#### The tools in Data Science are:\n",
    " |Data Science Tools|\n",
    " |------------------|\n",
    " | Jupyter Notebooks/JupyterLab|\n",
    " | R Studio|\n",
    "|Visual Studio Code|"
   ]
  },
  {
   "cell_type": "markdown",
   "id": "398714a0-4df9-40e4-a946-6860a9289546",
   "metadata": {},
   "source": [
    "#### Now let us understand arithematic expressions with some examples:\n",
    "1. Addition\n",
    "    result = 10+2\n",
    "    ### The result is 12.\n",
    "2. Subtraction\n",
    "    result = 34-4\n",
    "    ### The result is 30.\n",
    "3. multiplication\n",
    "    result = 8*5\n",
    "    ### The result is 40.\n",
    "4. division\n",
    "    result = 15/3\n",
    "    ### The result is 5. "
   ]
  },
  {
   "cell_type": "code",
   "execution_count": 4,
   "id": "debd178a-4486-430b-8221-95d19db3a099",
   "metadata": {
    "tags": []
   },
   "outputs": [
    {
     "data": {
      "text/plain": [
       "14"
      ]
     },
     "execution_count": 4,
     "metadata": {},
     "output_type": "execute_result"
    }
   ],
   "source": [
    "(3*4)+2"
   ]
  },
  {
   "cell_type": "code",
   "execution_count": 5,
   "id": "fe45b26e-cd03-4240-be43-4355231ada80",
   "metadata": {
    "tags": []
   },
   "outputs": [
    {
     "data": {
      "text/plain": [
       "5.833333333333333"
      ]
     },
     "execution_count": 5,
     "metadata": {},
     "output_type": "execute_result"
    }
   ],
   "source": [
    "# conversion of minutes into hours\n",
    "minutes=350\n",
    "(350/60)"
   ]
  },
  {
   "cell_type": "markdown",
   "id": "405c7ff0-77a2-4a13-96d4-c25f8f1f02b1",
   "metadata": {},
   "source": [
    "#### The Objectives are:\n",
    "* Introduction to Data Science\n",
    "* Languages in Data Science\n",
    "* Libraries in Data Science \n",
    "* Tools in Data Science "
   ]
  },
  {
   "cell_type": "markdown",
   "id": "f82e1ff1-943d-4fa7-b0c9-2fa31ea34da7",
   "metadata": {},
   "source": [
    "## Author:\n",
    "Sanjana "
   ]
  }
 ],
 "metadata": {
  "kernelspec": {
   "display_name": "Python",
   "language": "python",
   "name": "conda-env-python-py"
  },
  "language_info": {
   "codemirror_mode": {
    "name": "ipython",
    "version": 3
   },
   "file_extension": ".py",
   "mimetype": "text/x-python",
   "name": "python",
   "nbconvert_exporter": "python",
   "pygments_lexer": "ipython3",
   "version": "3.7.12"
  }
 },
 "nbformat": 4,
 "nbformat_minor": 5
}
